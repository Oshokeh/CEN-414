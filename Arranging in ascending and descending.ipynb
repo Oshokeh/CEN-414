{
 "cells": [
  {
   "cell_type": "code",
   "execution_count": 1,
   "id": "9c8160bd",
   "metadata": {},
   "outputs": [],
   "source": [
    "list = ['dog','cat', 'elephant', 'zebra', 'bee', 'fish', 'dolphin']\n",
    "\n"
   ]
  },
  {
   "cell_type": "code",
   "execution_count": 2,
   "id": "0b8f5f06",
   "metadata": {},
   "outputs": [
    {
     "data": {
      "text/plain": [
       "['bee', 'cat', 'dog', 'dolphin', 'elephant', 'fish', 'zebra']"
      ]
     },
     "execution_count": 2,
     "metadata": {},
     "output_type": "execute_result"
    }
   ],
   "source": [
    "sorted(list)"
   ]
  },
  {
   "cell_type": "code",
   "execution_count": 3,
   "id": "1c8f3f42",
   "metadata": {},
   "outputs": [
    {
     "name": "stdout",
     "output_type": "stream",
     "text": [
      "['zebra', 'fish', 'elephant', 'dolphin', 'dog', 'cat', 'bee']\n"
     ]
    }
   ],
   "source": [
    "list.sort(reverse=True)\n",
    "print(list)"
   ]
  },
  {
   "cell_type": "code",
   "execution_count": 8,
   "id": "12908129",
   "metadata": {},
   "outputs": [
    {
     "name": "stdout",
     "output_type": "stream",
     "text": [
      "['bee', 'cat', 'dog', 'dolphin', 'elephant', 'fish', 'zebra']\n"
     ]
    }
   ],
   "source": [
    "for i in range(0,len(list)):\n",
    "    for j in range(0,len(list)):\n",
    "        if (list[j] > list[i]):\n",
    "            temp= list[i]\n",
    "            list[i]= list[j]\n",
    "            list[j]= temp\n",
    "    \n",
    "print(list)"
   ]
  },
  {
   "cell_type": "code",
   "execution_count": 5,
   "id": "ed031d6f",
   "metadata": {},
   "outputs": [
    {
     "name": "stdout",
     "output_type": "stream",
     "text": [
      "['zebra', 'fish', 'elephant', 'dolphin', 'dog', 'cat', 'bee']\n"
     ]
    }
   ],
   "source": [
    "for i in range(0,len(list)):\n",
    "    for j in range(0,len(list)):\n",
    "        if (list[j] < list[i]):\n",
    "            temp= list[i]\n",
    "            list[i]= list[j]\n",
    "            list[j]= temp\n",
    "    \n",
    "print(list)"
   ]
  },
  {
   "cell_type": "code",
   "execution_count": null,
   "id": "8461c53e",
   "metadata": {},
   "outputs": [],
   "source": []
  },
  {
   "cell_type": "code",
   "execution_count": null,
   "id": "8db90a77",
   "metadata": {},
   "outputs": [],
   "source": []
  },
  {
   "cell_type": "code",
   "execution_count": null,
   "id": "e1b035eb",
   "metadata": {},
   "outputs": [],
   "source": []
  },
  {
   "cell_type": "code",
   "execution_count": null,
   "id": "2cf70fa3",
   "metadata": {},
   "outputs": [],
   "source": []
  }
 ],
 "metadata": {
  "kernelspec": {
   "display_name": "Python 3 (ipykernel)",
   "language": "python",
   "name": "python3"
  },
  "language_info": {
   "codemirror_mode": {
    "name": "ipython",
    "version": 3
   },
   "file_extension": ".py",
   "mimetype": "text/x-python",
   "name": "python",
   "nbconvert_exporter": "python",
   "pygments_lexer": "ipython3",
   "version": "3.9.13"
  }
 },
 "nbformat": 4,
 "nbformat_minor": 5
}
